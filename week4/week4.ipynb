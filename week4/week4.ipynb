{
 "cells": [
  {
   "cell_type": "code",
   "execution_count": 1,
   "metadata": {
    "collapsed": true,
    "deletable": true,
    "editable": true
   },
   "outputs": [],
   "source": [
    "import numpy as np\n",
    "import math"
   ]
  },
  {
   "cell_type": "code",
   "execution_count": 2,
   "metadata": {
    "collapsed": true
   },
   "outputs": [],
   "source": [
    "## a.uniform distribution(a = 1, b = 100)\n",
    "## b.binomial distribution(n = 100, p = 0.4)\n",
    "## c.geometric distrubution(p = 0.4)"
   ]
  },
  {
   "cell_type": "code",
   "execution_count": 3,
   "metadata": {
    "collapsed": true,
    "deletable": true,
    "editable": true
   },
   "outputs": [],
   "source": [
    "## 문제 1.a,b,c의 mean과 variance를 구하는 함수를 정의하라.\n",
    "\n",
    "def mean_var_u(a, b):\n",
    "    return (a+b-1)/2., (b-a-1)*(b-a+1)/12.\n",
    "\n",
    "def mean_var_b(n, p):\n",
    "    return n*p, n*p*(1-p)\n",
    "\n",
    "def mean_var_g(p):\n",
    "    return 1/p, (1-p)/p**2"
   ]
  },
  {
   "cell_type": "code",
   "execution_count": 4,
   "metadata": {
    "collapsed": false,
    "deletable": true,
    "editable": true
   },
   "outputs": [],
   "source": [
    "## 문제 2.numpy operation을 사용하여 a,b,c를 생성하라.\n",
    "\n",
    "uni_dist = np.array(np.random.uniform(1, 101, size = 10000), dtype = np.int64)\n",
    "bi_dist = np.random.binomial(100, 0.4, size = 10000)\n",
    "geo_dist = np.random.geometric(0.4, size = 10000)"
   ]
  },
  {
   "cell_type": "code",
   "execution_count": 5,
   "metadata": {
    "collapsed": false,
    "deletable": true,
    "editable": true
   },
   "outputs": [],
   "source": [
    "## 문제 3.문제 1에서 정의한 함수를 이용하여 a,b,c의 mean과 variance를 구하라.\n",
    "mean_u_f, var_u_f = mean_var_u(1, 101)\n",
    "mean_b_f, var_b_f = mean_var_b(100,0.4)\n",
    "mean_g_f, var_g_f = mean_var_g(0.4)"
   ]
  },
  {
   "cell_type": "code",
   "execution_count": 6,
   "metadata": {
    "collapsed": false
   },
   "outputs": [],
   "source": [
    "## 문제 4.문제 2에서 생성한 distribution을 이용하여 a,b,c의 mean과 variance를 구하라.\n",
    "def mean_var_d(d, n):\n",
    "    mean = np.sum(d) / float(n)\n",
    "    var = np.sum((d - mean)**2) / float(n)\n",
    "    return mean, var\n",
    "\n",
    "mean_u_d, var_u_d = mean_var_d(uni_dist, 10000)\n",
    "mean_b_d, var_b_d = mean_var_d(bi_dist, 10000)\n",
    "mean_g_d, var_g_d = mean_var_d(geo_dist, 10000) "
   ]
  },
  {
   "cell_type": "code",
   "execution_count": 13,
   "metadata": {
    "collapsed": false,
    "deletable": true,
    "editable": true
   },
   "outputs": [
    {
     "name": "stdout",
     "output_type": "stream",
     "text": [
      "1.uniform distribution\n",
      " 1)problem 3 \n",
      "   mean : 50.5 variance : 833.25\n",
      " 2)problem 4  \n",
      "  mean : 50.1783 variance : 829.70910911\n",
      "\n",
      "2.binomial distribution\n",
      " 1)problem 3 \n",
      "  mean : 40.0 variance : 24.0\n",
      " 2)problem 4  \n",
      "  mean : 40.0304 variance : 24.48887584\n",
      "\n",
      "3.geometric distribution\n",
      " 1)problem 3 \n",
      "  mean : 2.5 variance : 3.75\n",
      " 2)problem 4  \n",
      "  mean : 2.5161 variance : 3.73774079\n"
     ]
    }
   ],
   "source": [
    "## 문제 5.문제 3과 문제 4에서 구한 a,b,c 의 mean과 variacne를 비교하라\n",
    "print \"1.uniform distribution\"\n",
    "print \" 1)problem 3 \"\n",
    "print \"   mean : \" + str(mean_u_f) + \" \" + \"variance : \" + str(var_u_f)\n",
    "print \" 2)problem 4  \"\n",
    "print \"  mean : \" + str(mean_u_d) + \" \" + \"variance : \" + str(var_u_d)\n",
    "print \"\"\n",
    "print \"2.binomial distribution\"\n",
    "print \" 1)problem 3 \"\n",
    "print \"  mean : \" + str(mean_b_f) + \" \" + \"variance : \" + str(var_b_f)\n",
    "print \" 2)problem 4  \"\n",
    "print \"  mean : \" + str(mean_b_d) + \" \" + \"variance : \" + str(var_b_d)\n",
    "print \"\"\n",
    "print \"3.geometric distribution\"\n",
    "print \" 1)problem 3 \"\n",
    "print \"  mean : \" + str(mean_g_f) + \" \" + \"variance : \" + str(var_g_f)\n",
    "print \" 2)problem 4  \"\n",
    "print \"  mean : \" + str(mean_g_d) + \" \" + \"variance : \" + str(var_g_d)"
   ]
  },
  {
   "cell_type": "code",
   "execution_count": null,
   "metadata": {
    "collapsed": true
   },
   "outputs": [],
   "source": []
  }
 ],
 "metadata": {
  "kernelspec": {
   "display_name": "Python 2",
   "language": "python",
   "name": "python2"
  },
  "language_info": {
   "codemirror_mode": {
    "name": "ipython",
    "version": 2
   },
   "file_extension": ".py",
   "mimetype": "text/x-python",
   "name": "python",
   "nbconvert_exporter": "python",
   "pygments_lexer": "ipython2",
   "version": "2.7.10"
  }
 },
 "nbformat": 4,
 "nbformat_minor": 2
}
