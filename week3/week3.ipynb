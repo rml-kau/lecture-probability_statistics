{
 "cells": [
  {
   "cell_type": "code",
   "execution_count": 1,
   "metadata": {
    "collapsed": true,
    "deletable": true,
    "editable": true
   },
   "outputs": [],
   "source": [
    "import numpy as np\n",
    "import math"
   ]
  },
  {
   "cell_type": "code",
   "execution_count": 2,
   "metadata": {
    "collapsed": true,
    "deletable": true,
    "editable": true
   },
   "outputs": [],
   "source": [
    "##문제 1.binomial distribution의 pmf와 geometric distribution의 pmf를 구하는 함수를 정의하라.\n",
    "\n",
    "def pmf_b(n, k, p):\n",
    "    f = math.factorial\n",
    "    nCk = f(n)/(f(n-k)*f(k))\n",
    "    return nCk*(p**k)*((1-p)**(n-k))\n",
    "\n",
    "def pmf_g(k, p):\n",
    "    return ((1-p)**(k-1))*p\n"
   ]
  },
  {
   "cell_type": "code",
   "execution_count": 3,
   "metadata": {
    "collapsed": true
   },
   "outputs": [],
   "source": [
    "##문제 2.문제 1번에서 구한 pmf를 이용하여 (n = 20, k = 8, p = 0.3) 일 때 binomial distribution에서의 확률과 (k = 8, p = 0.3)일 때 geometric distribution에서의 확률을 구하라.\n",
    "\n",
    "prob_b_pmf = pmf_b(20, 8, 0.3)\n",
    "prob_g_pmf = pmf_g(8, 0.3)"
   ]
  },
  {
   "cell_type": "code",
   "execution_count": 4,
   "metadata": {
    "collapsed": false,
    "deletable": true,
    "editable": true
   },
   "outputs": [],
   "source": [
    "##문제 3.binomial distribution과 geometric distrubution을 만들어라\n",
    "\n",
    "binomial_distribution = np.random.binomial(20, 0.3, size = 10000)\n",
    "geometric_distribution = np.random.geometric(0.3, size = 10000)"
   ]
  },
  {
   "cell_type": "code",
   "execution_count": 5,
   "metadata": {
    "collapsed": false,
    "deletable": true,
    "editable": true
   },
   "outputs": [],
   "source": [
    "##문제 4.문제 3에서 만든 distribution을 이용하여 (n = 20, k = 8, p = 0.3) 일 때 binomial distribution에서의 확률과 (k = 8, p = 0.3)일 때 geometric distribution에서의 확률을 구하라.\n",
    "\n",
    "event_b = binomial_distribution[binomial_distribution==8]\n",
    "event_g = geometric_distribution[geometric_distribution==8]\n",
    "\n",
    "prob_b_dist = event_b.size / 10000.\n",
    "prob_g_dist_ = event_g.size / 10000."
   ]
  },
  {
   "cell_type": "code",
   "execution_count": 6,
   "metadata": {
    "collapsed": false,
    "deletable": true,
    "editable": true
   },
   "outputs": [],
   "source": [
    "##문제 5.문제 2번과 문제 4번에서 구한 각각의 확률을 비교하라. "
   ]
  }
 ],
 "metadata": {
  "kernelspec": {
   "display_name": "Python 2",
   "language": "python",
   "name": "python2"
  },
  "language_info": {
   "codemirror_mode": {
    "name": "ipython",
    "version": 2
   },
   "file_extension": ".py",
   "mimetype": "text/x-python",
   "name": "python",
   "nbconvert_exporter": "python",
   "pygments_lexer": "ipython2",
   "version": "2.7.10"
  }
 },
 "nbformat": 4,
 "nbformat_minor": 2
}
